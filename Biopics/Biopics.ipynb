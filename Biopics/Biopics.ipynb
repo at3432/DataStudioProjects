{
 "cells": [
  {
   "cell_type": "code",
   "execution_count": 1,
   "metadata": {},
   "outputs": [],
   "source": [
    "import pandas as pd"
   ]
  },
  {
   "cell_type": "code",
   "execution_count": 2,
   "metadata": {},
   "outputs": [],
   "source": [
    "import matplotlib\n"
   ]
  },
  {
   "cell_type": "code",
   "execution_count": 3,
   "metadata": {},
   "outputs": [],
   "source": [
    "df = pd.read_csv(\"biopics.csv\", encoding='latin-1')"
   ]
  },
  {
   "cell_type": "code",
   "execution_count": 4,
   "metadata": {},
   "outputs": [
    {
     "data": {
      "text/html": [
       "<div>\n",
       "<style scoped>\n",
       "    .dataframe tbody tr th:only-of-type {\n",
       "        vertical-align: middle;\n",
       "    }\n",
       "\n",
       "    .dataframe tbody tr th {\n",
       "        vertical-align: top;\n",
       "    }\n",
       "\n",
       "    .dataframe thead th {\n",
       "        text-align: right;\n",
       "    }\n",
       "</style>\n",
       "<table border=\"1\" class=\"dataframe\">\n",
       "  <thead>\n",
       "    <tr style=\"text-align: right;\">\n",
       "      <th></th>\n",
       "      <th>title</th>\n",
       "      <th>site</th>\n",
       "      <th>country</th>\n",
       "      <th>year_release</th>\n",
       "      <th>box_office</th>\n",
       "      <th>director</th>\n",
       "      <th>number_of_subjects</th>\n",
       "      <th>subject</th>\n",
       "      <th>type_of_subject</th>\n",
       "      <th>race_known</th>\n",
       "      <th>subject_race</th>\n",
       "      <th>person_of_color</th>\n",
       "      <th>subject_sex</th>\n",
       "      <th>lead_actor_actress</th>\n",
       "    </tr>\n",
       "  </thead>\n",
       "  <tbody>\n",
       "    <tr>\n",
       "      <th>0</th>\n",
       "      <td>10 Rillington Place</td>\n",
       "      <td>http://www.imdb.com/title/tt0066730/</td>\n",
       "      <td>UK</td>\n",
       "      <td>1971</td>\n",
       "      <td>-</td>\n",
       "      <td>Richard Fleischer</td>\n",
       "      <td>1</td>\n",
       "      <td>John Christie</td>\n",
       "      <td>Criminal</td>\n",
       "      <td>Unknown</td>\n",
       "      <td>NaN</td>\n",
       "      <td>0</td>\n",
       "      <td>Male</td>\n",
       "      <td>Richard Attenborough</td>\n",
       "    </tr>\n",
       "    <tr>\n",
       "      <th>1</th>\n",
       "      <td>12 Years a Slave</td>\n",
       "      <td>http://www.imdb.com/title/tt2024544/</td>\n",
       "      <td>US/UK</td>\n",
       "      <td>2013</td>\n",
       "      <td>$56.7M</td>\n",
       "      <td>Steve McQueen</td>\n",
       "      <td>1</td>\n",
       "      <td>Solomon Northup</td>\n",
       "      <td>Other</td>\n",
       "      <td>Known</td>\n",
       "      <td>African American</td>\n",
       "      <td>1</td>\n",
       "      <td>Male</td>\n",
       "      <td>Chiwetel Ejiofor</td>\n",
       "    </tr>\n",
       "    <tr>\n",
       "      <th>2</th>\n",
       "      <td>127 Hours</td>\n",
       "      <td>http://www.imdb.com/title/tt1542344/</td>\n",
       "      <td>US/UK</td>\n",
       "      <td>2010</td>\n",
       "      <td>$18.3M</td>\n",
       "      <td>Danny Boyle</td>\n",
       "      <td>1</td>\n",
       "      <td>Aron Ralston</td>\n",
       "      <td>Athlete</td>\n",
       "      <td>Unknown</td>\n",
       "      <td>NaN</td>\n",
       "      <td>0</td>\n",
       "      <td>Male</td>\n",
       "      <td>James Franco</td>\n",
       "    </tr>\n",
       "    <tr>\n",
       "      <th>3</th>\n",
       "      <td>1987</td>\n",
       "      <td>http://www.imdb.com/title/tt2833074/</td>\n",
       "      <td>Canada</td>\n",
       "      <td>2014</td>\n",
       "      <td>-</td>\n",
       "      <td>Ricardo Trogi</td>\n",
       "      <td>1</td>\n",
       "      <td>Ricardo Trogi</td>\n",
       "      <td>Other</td>\n",
       "      <td>Known</td>\n",
       "      <td>White</td>\n",
       "      <td>0</td>\n",
       "      <td>Male</td>\n",
       "      <td>Jean-Carl Boucher</td>\n",
       "    </tr>\n",
       "    <tr>\n",
       "      <th>4</th>\n",
       "      <td>20 Dates</td>\n",
       "      <td>http://www.imdb.com/title/tt0138987/</td>\n",
       "      <td>US</td>\n",
       "      <td>1998</td>\n",
       "      <td>$537K</td>\n",
       "      <td>Myles Berkowitz</td>\n",
       "      <td>1</td>\n",
       "      <td>Myles Berkowitz</td>\n",
       "      <td>Other</td>\n",
       "      <td>Unknown</td>\n",
       "      <td>NaN</td>\n",
       "      <td>0</td>\n",
       "      <td>Male</td>\n",
       "      <td>Myles Berkowitz</td>\n",
       "    </tr>\n",
       "  </tbody>\n",
       "</table>\n",
       "</div>"
      ],
      "text/plain": [
       "                 title                                  site country  \\\n",
       "0  10 Rillington Place  http://www.imdb.com/title/tt0066730/      UK   \n",
       "1     12 Years a Slave  http://www.imdb.com/title/tt2024544/   US/UK   \n",
       "2            127 Hours  http://www.imdb.com/title/tt1542344/   US/UK   \n",
       "3                 1987  http://www.imdb.com/title/tt2833074/  Canada   \n",
       "4             20 Dates  http://www.imdb.com/title/tt0138987/      US   \n",
       "\n",
       "   year_release box_office           director  number_of_subjects  \\\n",
       "0          1971          -  Richard Fleischer                   1   \n",
       "1          2013     $56.7M      Steve McQueen                   1   \n",
       "2          2010     $18.3M        Danny Boyle                   1   \n",
       "3          2014          -      Ricardo Trogi                   1   \n",
       "4          1998      $537K    Myles Berkowitz                   1   \n",
       "\n",
       "            subject type_of_subject race_known      subject_race  \\\n",
       "0     John Christie        Criminal    Unknown               NaN   \n",
       "1   Solomon Northup           Other      Known  African American   \n",
       "2      Aron Ralston         Athlete    Unknown               NaN   \n",
       "3     Ricardo Trogi           Other      Known             White   \n",
       "4   Myles Berkowitz           Other    Unknown               NaN   \n",
       "\n",
       "   person_of_color subject_sex    lead_actor_actress  \n",
       "0                0        Male  Richard Attenborough  \n",
       "1                1        Male      Chiwetel Ejiofor  \n",
       "2                0        Male          James Franco  \n",
       "3                0        Male     Jean-Carl Boucher  \n",
       "4                0        Male       Myles Berkowitz  "
      ]
     },
     "execution_count": 4,
     "metadata": {},
     "output_type": "execute_result"
    }
   ],
   "source": [
    "df.head()"
   ]
  },
  {
   "cell_type": "code",
   "execution_count": 5,
   "metadata": {},
   "outputs": [
    {
     "data": {
      "text/html": [
       "<div>\n",
       "<style scoped>\n",
       "    .dataframe tbody tr th:only-of-type {\n",
       "        vertical-align: middle;\n",
       "    }\n",
       "\n",
       "    .dataframe tbody tr th {\n",
       "        vertical-align: top;\n",
       "    }\n",
       "\n",
       "    .dataframe thead th {\n",
       "        text-align: right;\n",
       "    }\n",
       "</style>\n",
       "<table border=\"1\" class=\"dataframe\">\n",
       "  <thead>\n",
       "    <tr style=\"text-align: right;\">\n",
       "      <th></th>\n",
       "      <th>title</th>\n",
       "      <th>site</th>\n",
       "      <th>country</th>\n",
       "      <th>year_release</th>\n",
       "      <th>box_office</th>\n",
       "      <th>director</th>\n",
       "      <th>number_of_subjects</th>\n",
       "      <th>subject</th>\n",
       "      <th>type_of_subject</th>\n",
       "      <th>race_known</th>\n",
       "      <th>subject_race</th>\n",
       "      <th>person_of_color</th>\n",
       "      <th>subject_sex</th>\n",
       "      <th>lead_actor_actress</th>\n",
       "    </tr>\n",
       "  </thead>\n",
       "  <tbody>\n",
       "    <tr>\n",
       "      <th>756</th>\n",
       "      <td>Young Man with a Horn</td>\n",
       "      <td>http://www.imdb.com/title/tt0043153/</td>\n",
       "      <td>US</td>\n",
       "      <td>1950</td>\n",
       "      <td>-</td>\n",
       "      <td>Michael Curtiz</td>\n",
       "      <td>1</td>\n",
       "      <td>Bix Beiderbecke</td>\n",
       "      <td>Musician</td>\n",
       "      <td>Known</td>\n",
       "      <td>White</td>\n",
       "      <td>0</td>\n",
       "      <td>Male</td>\n",
       "      <td>Kirk Douglas</td>\n",
       "    </tr>\n",
       "    <tr>\n",
       "      <th>757</th>\n",
       "      <td>Young Mr. Lincoln</td>\n",
       "      <td>http://www.imdb.com/title/tt0032155/</td>\n",
       "      <td>US</td>\n",
       "      <td>1939</td>\n",
       "      <td>-</td>\n",
       "      <td>John Ford</td>\n",
       "      <td>1</td>\n",
       "      <td>Abraham Lincoln</td>\n",
       "      <td>World leader</td>\n",
       "      <td>Known</td>\n",
       "      <td>White</td>\n",
       "      <td>0</td>\n",
       "      <td>Male</td>\n",
       "      <td>Henry Fonda</td>\n",
       "    </tr>\n",
       "    <tr>\n",
       "      <th>758</th>\n",
       "      <td>Young Tom Edison</td>\n",
       "      <td>http://www.imdb.com/title/tt0033289/</td>\n",
       "      <td>US</td>\n",
       "      <td>1940</td>\n",
       "      <td>-</td>\n",
       "      <td>Norman Taurog</td>\n",
       "      <td>1</td>\n",
       "      <td>Thomas Edison</td>\n",
       "      <td>Other</td>\n",
       "      <td>Known</td>\n",
       "      <td>White</td>\n",
       "      <td>0</td>\n",
       "      <td>Male</td>\n",
       "      <td>Mickey Rooney</td>\n",
       "    </tr>\n",
       "    <tr>\n",
       "      <th>759</th>\n",
       "      <td>Young Winston</td>\n",
       "      <td>http://www.imdb.com/title/tt0069528/</td>\n",
       "      <td>US</td>\n",
       "      <td>1972</td>\n",
       "      <td>-</td>\n",
       "      <td>Richard Attenborough</td>\n",
       "      <td>1</td>\n",
       "      <td>Winston Churchill</td>\n",
       "      <td>World leader</td>\n",
       "      <td>Known</td>\n",
       "      <td>White</td>\n",
       "      <td>0</td>\n",
       "      <td>Male</td>\n",
       "      <td>Simon Ward</td>\n",
       "    </tr>\n",
       "    <tr>\n",
       "      <th>760</th>\n",
       "      <td>Your Cheatin' Heart</td>\n",
       "      <td>http://www.imdb.com/title/tt0058765/</td>\n",
       "      <td>US</td>\n",
       "      <td>1964</td>\n",
       "      <td>-</td>\n",
       "      <td>Gene Nelson</td>\n",
       "      <td>1</td>\n",
       "      <td>Hank Williams</td>\n",
       "      <td>Musician</td>\n",
       "      <td>Unknown</td>\n",
       "      <td>NaN</td>\n",
       "      <td>0</td>\n",
       "      <td>Male</td>\n",
       "      <td>George Hamilton</td>\n",
       "    </tr>\n",
       "  </tbody>\n",
       "</table>\n",
       "</div>"
      ],
      "text/plain": [
       "                     title                                  site country  \\\n",
       "756  Young Man with a Horn  http://www.imdb.com/title/tt0043153/      US   \n",
       "757      Young Mr. Lincoln  http://www.imdb.com/title/tt0032155/      US   \n",
       "758       Young Tom Edison  http://www.imdb.com/title/tt0033289/      US   \n",
       "759          Young Winston  http://www.imdb.com/title/tt0069528/      US   \n",
       "760    Your Cheatin' Heart  http://www.imdb.com/title/tt0058765/      US   \n",
       "\n",
       "     year_release box_office              director  number_of_subjects  \\\n",
       "756          1950          -        Michael Curtiz                   1   \n",
       "757          1939          -             John Ford                   1   \n",
       "758          1940          -         Norman Taurog                   1   \n",
       "759          1972          -  Richard Attenborough                   1   \n",
       "760          1964          -           Gene Nelson                   1   \n",
       "\n",
       "               subject type_of_subject race_known subject_race  \\\n",
       "756    Bix Beiderbecke        Musician      Known        White   \n",
       "757    Abraham Lincoln    World leader      Known        White   \n",
       "758      Thomas Edison           Other      Known        White   \n",
       "759  Winston Churchill    World leader      Known        White   \n",
       "760      Hank Williams        Musician    Unknown          NaN   \n",
       "\n",
       "     person_of_color subject_sex lead_actor_actress  \n",
       "756                0        Male       Kirk Douglas  \n",
       "757                0        Male        Henry Fonda  \n",
       "758                0        Male      Mickey Rooney  \n",
       "759                0        Male         Simon Ward  \n",
       "760                0        Male    George Hamilton  "
      ]
     },
     "execution_count": 5,
     "metadata": {},
     "output_type": "execute_result"
    }
   ],
   "source": [
    "df.tail()"
   ]
  },
  {
   "cell_type": "code",
   "execution_count": 6,
   "metadata": {},
   "outputs": [
    {
     "data": {
      "text/plain": [
       "(761, 14)"
      ]
     },
     "execution_count": 6,
     "metadata": {},
     "output_type": "execute_result"
    }
   ],
   "source": [
    "df.shape"
   ]
  },
  {
   "cell_type": "code",
   "execution_count": 7,
   "metadata": {},
   "outputs": [
    {
     "data": {
      "text/plain": [
       "Jesus                 7\n",
       "Abraham Lincoln       5\n",
       "Che Guevara           4\n",
       "Moses                 3\n",
       "Oscar Wilde           3\n",
       "John Dillinger        3\n",
       "Cleopatra             3\n",
       "Jesse James           3\n",
       "Thomas Edison         2\n",
       "Napoleon Bonaparte    2\n",
       "Victoria              2\n",
       "Annie Oakley          2\n",
       "Steve Prefontaine     2\n",
       "Anna Leonowens        2\n",
       "Adolf Hitler          2\n",
       "Henry V of England    2\n",
       "Sabina Spielrein      2\n",
       "Jackie Robinson       2\n",
       "Muhammad              2\n",
       "Carl Gustav Jung      2\n",
       "Name: subject, dtype: int64"
      ]
     },
     "execution_count": 7,
     "metadata": {},
     "output_type": "execute_result"
    }
   ],
   "source": [
    "df.subject.value_counts().head(20)"
   ]
  },
  {
   "cell_type": "code",
   "execution_count": 12,
   "metadata": {},
   "outputs": [
    {
     "data": {
      "text/plain": [
       "Other            159\n",
       "Criminal          81\n",
       "Musician          76\n",
       "Historical        76\n",
       "Athlete           74\n",
       "Military          45\n",
       "Author            45\n",
       "Activist          31\n",
       "Artist            29\n",
       "Academic          21\n",
       "Singer            20\n",
       "World leader      17\n",
       "Actress           16\n",
       "Media             15\n",
       "Actor             14\n",
       "Author (poet)     13\n",
       "Medicine           9\n",
       "Comedian           7\n",
       "Government         4\n",
       "Journalist         2\n",
       "Name: type_of_subject, dtype: int64"
      ]
     },
     "execution_count": 12,
     "metadata": {},
     "output_type": "execute_result"
    }
   ],
   "source": [
    "df.type_of_subject.value_counts().head(20)"
   ]
  },
  {
   "cell_type": "code",
   "execution_count": 19,
   "metadata": {},
   "outputs": [
    {
     "data": {
      "text/plain": [
       "<matplotlib.axes._subplots.AxesSubplot at 0x122138048>"
      ]
     },
     "execution_count": 19,
     "metadata": {},
     "output_type": "execute_result"
    },
    {
     "data": {
      "image/png": "[encoded data removed]",
      "text/plain": [
       "<Figure size 432x288 with 1 Axes>"
      ]
     },
     "metadata": {},
     "output_type": "display_data"
    }
   ],
   "source": [
    "df.subject.value_counts().head(20).plot(kind=\"pie\")"
   ]
  },
  {
   "cell_type": "code",
   "execution_count": 44,
   "metadata": {},
   "outputs": [
    {
     "data": {
      "text/plain": [
       "<matplotlib.axes._subplots.AxesSubplot at 0x125075e48>"
      ]
     },
     "execution_count": 44,
     "metadata": {},
     "output_type": "execute_result"
    },
    {
     "data": {
      "image/png": "[encoded data removed]",
      "text/plain": [
       "<Figure size 432x288 with 1 Axes>"
      ]
     },
     "metadata": {
      "needs_background": "light"
     },
     "output_type": "display_data"
    }
   ],
   "source": [
    "colors = ['orange', 'royalblue', 'red', 'lightsteelblue', 'yellow']\n",
    "df.subject.value_counts().head(20).sort_values(ascending=True).plot(kind=\"barh\", width=0.5, color=colors)"
   ]
  },
  {
   "cell_type": "code",
   "execution_count": 43,
   "metadata": {},
   "outputs": [
    {
     "data": {
      "text/plain": [
       "<matplotlib.axes._subplots.AxesSubplot at 0x1252c30f0>"
      ]
     },
     "execution_count": 43,
     "metadata": {},
     "output_type": "execute_result"
    },
    {
     "data": {
      "image/png": "[encoded data removed]",
      "text/plain": [
       "<Figure size 432x288 with 1 Axes>"
      ]
     },
     "metadata": {
      "needs_background": "light"
     },
     "output_type": "display_data"
    }
   ],
   "source": [
    "colors = ['lightcoral', 'indianred', 'firebrick', 'maroon']\n",
    "df.type_of_subject.value_counts().head(20).sort_values(ascending=True).plot(kind=\"barh\", width=0.5, color=colors)"
   ]
  },
  {
   "cell_type": "code",
   "execution_count": 8,
   "metadata": {},
   "outputs": [],
   "source": [
    "gender = df.subject_sex.value_counts(normalize=True)*100"
   ]
  },
  {
   "cell_type": "code",
   "execution_count": 38,
   "metadata": {},
   "outputs": [
    {
     "data": {
      "text/plain": [
       "<matplotlib.axes._subplots.AxesSubplot at 0x1244a8470>"
      ]
     },
     "execution_count": 38,
     "metadata": {},
     "output_type": "execute_result"
    },
    {
     "data": {
      "image/png": "[encoded data removed]",
      "text/plain": [
       "<Figure size 432x288 with 1 Axes>"
      ]
     },
     "metadata": {
      "needs_background": "light"
     },
     "output_type": "display_data"
    }
   ],
   "source": [
    "gender.plot(kind='bar', color='mediumspringgreen')"
   ]
  },
  {
   "cell_type": "code",
   "execution_count": null,
   "metadata": {},
   "outputs": [],
   "source": []
  }
 ],
 "metadata": {
  "kernelspec": {
   "display_name": "Python 3",
   "language": "python",
   "name": "python3"
  },
  "language_info": {
   "codemirror_mode": {
    "name": "ipython",
    "version": 3
   },
   "file_extension": ".py",
   "mimetype": "text/x-python",
   "name": "python",
   "nbconvert_exporter": "python",
   "pygments_lexer": "ipython3",
   "version": "3.6.5"
  }
 },
 "nbformat": 4,
 "nbformat_minor": 2
}
